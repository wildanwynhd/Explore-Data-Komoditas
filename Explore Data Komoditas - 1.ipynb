{
 "cells": [
  {
   "cell_type": "markdown",
   "metadata": {},
   "source": [
    "<h3 style='color:Yellow'> Get Data Komoditas di Indonesia  </h3>"
   ]
  },
  {
   "cell_type": "code",
   "execution_count": 1,
   "metadata": {},
   "outputs": [
    {
     "name": "stdout",
     "output_type": "stream",
     "text": [
      "<Response [200]>\n",
      "{'Connection': 'Keep-Alive', 'Keep-Alive': 'timeout=5, max=100', 'x-powered-by': 'PHP/7.3.31', 'access-control-allow-origin': '*', 'access-control-allow-methods': '*', 'access-control-allow-headers': '*', 'content-type': 'text/html; charset=UTF-8', 'cache-control': 'no-cache, private', 'x-ratelimit-limit': '2000', 'x-ratelimit-remaining': '1998', 'transfer-encoding': 'chunked', 'content-encoding': 'gzip', 'vary': 'Accept-Encoding', 'date': 'Fri, 18 Feb 2022 15:07:42 GMT', 'server': 'LiteSpeed', 'strict-transport-security': 'max-age=63072000; includeSubdomains; preload', 'x-content-type-options': 'nosniff', 'alt-svc': 'h3=\":443\"; ma=2592000, h3-29=\":443\"; ma=2592000, h3-Q050=\":443\"; ma=2592000, h3-Q046=\":443\"; ma=2592000, h3-Q043=\":443\"; ma=2592000, quic=\":443\"; ma=2592000; v=\"43,46\"'}\n"
     ]
    }
   ],
   "source": [
    "import requests\n",
    "import pandas as pd\n",
    "import numpy as np\n",
    "resp = requests.get('https://jibs.my.id/api/harga_komoditas')\n",
    "print(resp)\n",
    "print(resp.headers)"
   ]
  },
  {
   "cell_type": "code",
   "execution_count": 12,
   "metadata": {},
   "outputs": [
    {
     "name": "stdout",
     "output_type": "stream",
     "text": [
      "Length of dataRaw_ProvinceIndonesia : 2.\n",
      "Komponen dataRaw_ProvinceIndonesia  : dict_keys(['national_commodity_price', 'updated_at']).\n",
      "Length of dataRaw_ProvinceIndonesia : 10.\n",
      "Komponen dataRaw_ProvinceIndonesia  : dict_keys(['Daging Ayam', 'Beras', 'Daging Sapi', 'Telur Ayam', 'Bawang Merah', 'Bawang Putih', 'Cabai Merah', 'Cabai Rawit', 'Minyak Goreng', 'Gula Pasir']).\n"
     ]
    }
   ],
   "source": [
    "rawData_Komoditas = resp.json()\n",
    "print('Length of dataRaw_ProvinceIndonesia : %d.' %len(rawData_Komoditas))\n",
    "print('Komponen dataRaw_ProvinceIndonesia  : %s.' %rawData_Komoditas.keys())\n",
    "\n",
    "\n",
    "# Check data in national commodicty price\n",
    "nationalCommodity_Access = rawData_Komoditas['national_commodity_price']\n",
    "print('Length of dataRaw_ProvinceIndonesia : %d.' %len(nationalCommodity_Access))\n",
    "print('Komponen dataRaw_ProvinceIndonesia  : %s.' %nationalCommodity_Access.keys())"
   ]
  },
  {
   "cell_type": "code",
   "execution_count": null,
   "metadata": {},
   "outputs": [],
   "source": []
  }
 ],
 "metadata": {
  "interpreter": {
   "hash": "b5843a13e7131a14c3c0e364f0390d6592a995e3082c3f83420ac4385eeb2370"
  },
  "kernelspec": {
   "display_name": "Python 3.9.7 64-bit",
   "language": "python",
   "name": "python3"
  },
  "language_info": {
   "codemirror_mode": {
    "name": "ipython",
    "version": 3
   },
   "file_extension": ".py",
   "mimetype": "text/x-python",
   "name": "python",
   "nbconvert_exporter": "python",
   "pygments_lexer": "ipython3",
   "version": "3.9.7"
  },
  "orig_nbformat": 4
 },
 "nbformat": 4,
 "nbformat_minor": 2
}
